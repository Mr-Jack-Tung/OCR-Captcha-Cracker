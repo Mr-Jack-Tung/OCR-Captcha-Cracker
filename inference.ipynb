{
 "cells": [
  {
   "cell_type": "code",
   "execution_count": 1,
   "metadata": {},
   "outputs": [],
   "source": [
    "import numpy as np\n",
    "import random\n",
    "import string\n",
    "import captcha\n",
    "import os\n",
    "\n",
    "#os.environ['KMP_DUPLICATE_LIB_OK']='True'\n",
    "#os.environ['CUDA_VISIBLE_DEVICES'] = \"0\"\n",
    "\n",
    "from captcha.image import ImageCaptcha \n",
    "from captchacracker.model import CaptchaCracker"
   ]
  },
  {
   "cell_type": "code",
   "execution_count": 3,
   "metadata": {},
   "outputs": [
    {
     "name": "stdout",
     "output_type": "stream",
     "text": [
      "corpus : 0123456789ABCDEFGHIJKLMNOPQRSTUVWXYZ\n"
     ]
    }
   ],
   "source": [
    "## characters='0123456789ABCDEFGHIJKLMNOPQRSTUVWXYZ'\n",
    "characters = string.digits + string.ascii_uppercase\n",
    "print(\"corpus : {}\".format(characters))\n",
    "\n",
    "## set up size of generated image : width == 128, hright == 64, length == 4\n",
    "width, height, n_len, n_class = 128, 64, 4, len(characters)\n",
    "\n",
    "## random generate captcha\n",
    "generator = ImageCaptcha(width=width, height=height)\n",
    "\n",
    "## random select character from corpus, lenght == n_len\n",
    "random_str = ''.join([random.choice(characters) for j in range(n_len)])\n",
    "img = generator.generate_image(random_str)"
   ]
  },
  {
   "cell_type": "code",
   "execution_count": 7,
   "metadata": {},
   "outputs": [
    {
     "name": "stderr",
     "output_type": "stream",
     "text": [
      "INFO:model:device type : cuda\n",
      "INFO:model:ready for inference\n"
     ]
    },
    {
     "name": "stdout",
     "output_type": "stream",
     "text": [
      "Loading weights into state dict...\n",
      "Finished!\n"
     ]
    }
   ],
   "source": [
    "model = CaptchaCracker(weight_path='weight_new/crnn_ctc_model.pth', backbone='normal')"
   ]
  },
  {
   "cell_type": "code",
   "execution_count": 8,
   "metadata": {},
   "outputs": [
    {
     "data": {
      "image/png": "[encoded data removed]",
      "text/plain": [
       "<PIL.Image.Image image mode=RGB size=128x64 at 0x7F967CED7390>"
      ]
     },
     "execution_count": 8,
     "metadata": {},
     "output_type": "execute_result"
    }
   ],
   "source": [
    "random_str = ''.join([random.choice(characters) for j in range(n_len)])\n",
    "img = generator.generate_image(random_str)\n",
    "img"
   ]
  },
  {
   "cell_type": "code",
   "execution_count": 9,
   "metadata": {},
   "outputs": [
    {
     "name": "stderr",
     "output_type": "stream",
     "text": [
      "/home/jeff_yang/CRNN/model.py:157: UserWarning: To copy construct from a tensor, it is recommended to use sourceTensor.clone().detach() or sourceTensor.clone().detach().requires_grad_(True), rather than torch.tensor(sourceTensor).\n",
      "  img = torch.tensor(img).type(torch.LongTensor).to(self.device)\n"
     ]
    }
   ],
   "source": [
    "output = model.process(img)"
   ]
  },
  {
   "cell_type": "code",
   "execution_count": 10,
   "metadata": {},
   "outputs": [
    {
     "data": {
      "text/plain": [
       "'0Q61'"
      ]
     },
     "execution_count": 10,
     "metadata": {},
     "output_type": "execute_result"
    }
   ],
   "source": [
    "output"
   ]
  }
 ],
 "metadata": {
  "kernelspec": {
   "display_name": "Python 3",
   "language": "python",
   "name": "python3"
  },
  "language_info": {
   "codemirror_mode": {
    "name": "ipython",
    "version": 3
   },
   "file_extension": ".py",
   "mimetype": "text/x-python",
   "name": "python",
   "nbconvert_exporter": "python",
   "pygments_lexer": "ipython3",
   "version": "3.7.4"
  }
 },
 "nbformat": 4,
 "nbformat_minor": 4
}
